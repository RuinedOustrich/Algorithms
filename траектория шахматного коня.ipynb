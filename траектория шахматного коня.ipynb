{
 "cells": [
  {
   "cell_type": "code",
   "execution_count": 1,
   "id": "e321bed4-8911-4931-9907-41a5a82a5c4e",
   "metadata": {},
   "outputs": [],
   "source": [
    "letters = 'abcdrfgh'\n",
    "numbers = '12345678'\n",
    "\n",
    "graph = dict()\n",
    "for l in letters:\n",
    "    for n in numbers:\n",
    "        graph[l+n] = set()"
   ]
  },
  {
   "cell_type": "code",
   "execution_count": 2,
   "id": "12220aac-3b57-47ff-b8df-7e0327ba09a9",
   "metadata": {},
   "outputs": [],
   "source": [
    "def add_edge(v1, v2):\n",
    "    graph[v1].add(v2)\n",
    "    graph[v2].add(v1)\n",
    "    \n",
    "for i in range(8):\n",
    "    for j in range(8):\n",
    "        v1 = letters[i] + numbers[j]\n",
    "        v2 = \"\"\n",
    "        if 0 <= i + 2 < 8 and 0 <= j + 1 < 8:\n",
    "           v2 = letters[i+2] + numbers[j+1]\n",
    "           add_edge(v1, v2)\n",
    "        \n",
    "        if 0 <= i - 2 < 8 and 0 <= j + 1 < 8:\n",
    "           v2 = letters[i-2] + numbers[j+1]\n",
    "           add_edge(v1, v2)\n",
    "            \n",
    "        if 0 <= i + 1 < 8 and 0 <= j + 2 < 8:\n",
    "           v2 = letters[i+1] + numbers[j+2]\n",
    "           add_edge(v1, v2)\n",
    "        \n",
    "        if 0 <= i - 1 < 8 and 0 <= j + 2 < 8:\n",
    "           v2 = letters[i-1] + numbers[j+2]\n",
    "           add_edge(v1, v2)"
   ]
  },
  {
   "cell_type": "code",
   "execution_count": 14,
   "id": "ecdef1f0-0a40-412d-9651-7f6a0eb86e3e",
   "metadata": {},
   "outputs": [],
   "source": [
    "from collections import deque\n",
    "distances = {v: None for v in graph}\n",
    "\n",
    "start = 'd1'\n",
    "end = 'a5'\n",
    "\n",
    "distances[start] = 0\n",
    "queue = deque([start])\n",
    "\n",
    "parents = {v: None for v in graph}\n",
    "\n",
    "while queue:\n",
    "    cur_v = queue.popleft()\n",
    "    for neighbour in graph[cur_v]:\n",
    "        if distances[neighbour] is None:\n",
    "           distances[neighbour] = distances[cur_v]+1\n",
    "           parents[neighbour] = cur_v\n",
    "           queue.append(neighbour)"
   ]
  },
  {
   "cell_type": "code",
   "execution_count": 15,
   "id": "324e25ef-2827-4def-aaca-0dc953d8705d",
   "metadata": {},
   "outputs": [],
   "source": [
    "path = [end]\n",
    "parent = parents[end]\n",
    "while not parent is None:\n",
    "    path.append(parent)\n",
    "    parent = parents[parent]"
   ]
  },
  {
   "cell_type": "code",
   "execution_count": 16,
   "id": "721e32dd-45b1-423d-aed3-ba687927765d",
   "metadata": {},
   "outputs": [
    {
     "data": {
      "text/plain": [
       "['d1', 'b2', 'c4', 'a5']"
      ]
     },
     "execution_count": 16,
     "metadata": {},
     "output_type": "execute_result"
    }
   ],
   "source": [
    "path[::-1]"
   ]
  },
  {
   "cell_type": "code",
   "execution_count": 17,
   "id": "0cb7ae0e-e9c5-47cd-82dd-6bd802a0ad9f",
   "metadata": {},
   "outputs": [
    {
     "data": {
      "text/plain": [
       "{'a1': {'b3', 'c2'},\n",
       " 'a2': {'b4', 'c1', 'c3'},\n",
       " 'a3': {'b1', 'b5', 'c2', 'c4'},\n",
       " 'a4': {'b2', 'b6', 'c3', 'c5'},\n",
       " 'a5': {'b3', 'b7', 'c4', 'c6'},\n",
       " 'a6': {'b4', 'b8', 'c5', 'c7'},\n",
       " 'a7': {'b5', 'c6', 'c8'},\n",
       " 'a8': {'b6', 'c7'},\n",
       " 'b1': {'a3', 'c3', 'd2'},\n",
       " 'b2': {'a4', 'c4', 'd1', 'd3'},\n",
       " 'b3': {'a1', 'a5', 'c1', 'c5', 'd2', 'd4'},\n",
       " 'b4': {'a2', 'a6', 'c2', 'c6', 'd3', 'd5'},\n",
       " 'b5': {'a3', 'a7', 'c3', 'c7', 'd4', 'd6'},\n",
       " 'b6': {'a4', 'a8', 'c4', 'c8', 'd5', 'd7'},\n",
       " 'b7': {'a5', 'c5', 'd6', 'd8'},\n",
       " 'b8': {'a6', 'c6', 'd7'},\n",
       " 'c1': {'a2', 'b3', 'd3', 'r2'},\n",
       " 'c2': {'a1', 'a3', 'b4', 'd4', 'r1', 'r3'},\n",
       " 'c3': {'a2', 'a4', 'b1', 'b5', 'd1', 'd5', 'r2', 'r4'},\n",
       " 'c4': {'a3', 'a5', 'b2', 'b6', 'd2', 'd6', 'r3', 'r5'},\n",
       " 'c5': {'a4', 'a6', 'b3', 'b7', 'd3', 'd7', 'r4', 'r6'},\n",
       " 'c6': {'a5', 'a7', 'b4', 'b8', 'd4', 'd8', 'r5', 'r7'},\n",
       " 'c7': {'a6', 'a8', 'b5', 'd5', 'r6', 'r8'},\n",
       " 'c8': {'a7', 'b6', 'd6', 'r7'},\n",
       " 'd1': {'b2', 'c3', 'f2', 'r3'},\n",
       " 'd2': {'b1', 'b3', 'c4', 'f1', 'f3', 'r4'},\n",
       " 'd3': {'b2', 'b4', 'c1', 'c5', 'f2', 'f4', 'r1', 'r5'},\n",
       " 'd4': {'b3', 'b5', 'c2', 'c6', 'f3', 'f5', 'r2', 'r6'},\n",
       " 'd5': {'b4', 'b6', 'c3', 'c7', 'f4', 'f6', 'r3', 'r7'},\n",
       " 'd6': {'b5', 'b7', 'c4', 'c8', 'f5', 'f7', 'r4', 'r8'},\n",
       " 'd7': {'b6', 'b8', 'c5', 'f6', 'f8', 'r5'},\n",
       " 'd8': {'b7', 'c6', 'f7', 'r6'},\n",
       " 'r1': {'c2', 'd3', 'f3', 'g2'},\n",
       " 'r2': {'c1', 'c3', 'd4', 'f4', 'g1', 'g3'},\n",
       " 'r3': {'c2', 'c4', 'd1', 'd5', 'f1', 'f5', 'g2', 'g4'},\n",
       " 'r4': {'c3', 'c5', 'd2', 'd6', 'f2', 'f6', 'g3', 'g5'},\n",
       " 'r5': {'c4', 'c6', 'd3', 'd7', 'f3', 'f7', 'g4', 'g6'},\n",
       " 'r6': {'c5', 'c7', 'd4', 'd8', 'f4', 'f8', 'g5', 'g7'},\n",
       " 'r7': {'c6', 'c8', 'd5', 'f5', 'g6', 'g8'},\n",
       " 'r8': {'c7', 'd6', 'f6', 'g7'},\n",
       " 'f1': {'d2', 'g3', 'h2', 'r3'},\n",
       " 'f2': {'d1', 'd3', 'g4', 'h1', 'h3', 'r4'},\n",
       " 'f3': {'d2', 'd4', 'g1', 'g5', 'h2', 'h4', 'r1', 'r5'},\n",
       " 'f4': {'d3', 'd5', 'g2', 'g6', 'h3', 'h5', 'r2', 'r6'},\n",
       " 'f5': {'d4', 'd6', 'g3', 'g7', 'h4', 'h6', 'r3', 'r7'},\n",
       " 'f6': {'d5', 'd7', 'g4', 'g8', 'h5', 'h7', 'r4', 'r8'},\n",
       " 'f7': {'d6', 'd8', 'g5', 'h6', 'h8', 'r5'},\n",
       " 'f8': {'d7', 'g6', 'h7', 'r6'},\n",
       " 'g1': {'f3', 'h3', 'r2'},\n",
       " 'g2': {'f4', 'h4', 'r1', 'r3'},\n",
       " 'g3': {'f1', 'f5', 'h1', 'h5', 'r2', 'r4'},\n",
       " 'g4': {'f2', 'f6', 'h2', 'h6', 'r3', 'r5'},\n",
       " 'g5': {'f3', 'f7', 'h3', 'h7', 'r4', 'r6'},\n",
       " 'g6': {'f4', 'f8', 'h4', 'h8', 'r5', 'r7'},\n",
       " 'g7': {'f5', 'h5', 'r6', 'r8'},\n",
       " 'g8': {'f6', 'h6', 'r7'},\n",
       " 'h1': {'f2', 'g3'},\n",
       " 'h2': {'f1', 'f3', 'g4'},\n",
       " 'h3': {'f2', 'f4', 'g1', 'g5'},\n",
       " 'h4': {'f3', 'f5', 'g2', 'g6'},\n",
       " 'h5': {'f4', 'f6', 'g3', 'g7'},\n",
       " 'h6': {'f5', 'f7', 'g4', 'g8'},\n",
       " 'h7': {'f6', 'f8', 'g5'},\n",
       " 'h8': {'f7', 'g6'}}"
      ]
     },
     "execution_count": 17,
     "metadata": {},
     "output_type": "execute_result"
    }
   ],
   "source": [
    "graph\n"
   ]
  },
  {
   "cell_type": "code",
   "execution_count": null,
   "id": "e11ce5b4-a5a8-4e80-9503-f81168fc92c3",
   "metadata": {},
   "outputs": [],
   "source": []
  }
 ],
 "metadata": {
  "kernelspec": {
   "display_name": "Python 3 (ipykernel)",
   "language": "python",
   "name": "python3"
  },
  "language_info": {
   "codemirror_mode": {
    "name": "ipython",
    "version": 3
   },
   "file_extension": ".py",
   "mimetype": "text/x-python",
   "name": "python",
   "nbconvert_exporter": "python",
   "pygments_lexer": "ipython3",
   "version": "3.8.10"
  }
 },
 "nbformat": 4,
 "nbformat_minor": 5
}
