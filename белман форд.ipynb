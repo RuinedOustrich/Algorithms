{
 "cells": [
  {
   "cell_type": "code",
   "execution_count": 58,
   "id": "a8b171d0-5993-4135-8bcf-8dc3ac15f22c",
   "metadata": {},
   "outputs": [
    {
     "name": "stdout",
     "output_type": "stream",
     "text": [
      "Vertex Distance from Source\n",
      " 0 \t\t  0\n",
      " 1 \t\t -1\n",
      " 2 \t\t  2\n",
      " 3 \t\t -2\n",
      " 4 \t\t  1\n"
     ]
    }
   ],
   "source": [
    "from collections import defaultdict\n",
    " \n",
    "# Класс для представления графика\n",
    "class Graph:\n",
    " \n",
    "    def __init__(self, vertices):\n",
    "        self.V = vertices  # количество вершин\n",
    "        self.graph = []  # словарь по умолчанию для хранения графика\n",
    " \n",
    "    # функция для добавления ребер к графику\n",
    "    def addEdge(self, u, v, w):\n",
    "        self.graph.append([u, v, w])\n",
    " \n",
    "    # служебная функция, используемая для печати решения\n",
    "    def printArr(self, dist):\n",
    "        print(\"Vertex Distance from Source\")\n",
    "        for i in range(self.V):\n",
    "            print(\"% d \\t\\t % d\" % (i, dist[i]))\n",
    " \n",
    "        # Основная функция, которая находит кратчайшие расстояния от src до\n",
    " \n",
    "    # всех остальных вершин с использованием алгоритма Беллмана-Форда. Функция\n",
    "    # также обнаруживает цикл отрицательного веса\n",
    "    def BellmanFord(self, src):\n",
    " \n",
    "        # Шаг 1. Инициализируйте расстояния от src до всех остальных вершин.\n",
    "        # как INFINITE\n",
    "        dist = [float(\"Inf\")] * self.V\n",
    "        dist[src] = 0\n",
    " \n",
    "        # Шаг 2: Ослабьте все края | V | - 1 раз. Простой кратчайший\n",
    "        # путь из src в любую другую вершину может иметь не более | V | - 1 края\n",
    "        for i in range(self.V - 1):\n",
    "            # Обновить значение расстояния и родительский индекс смежных вершин выбранной вершины.\n",
    "            # Учитывать только те вершины, которые еще находятся в очереди.\n",
    "            for u, v, w in self.graph:\n",
    "                if dist[u] != float(\"Inf\") and dist[u] + w < dist[v]:\n",
    "                    dist[v] = dist[u] + w\n",
    " \n",
    "                # Шаг 3: проверьте циклы с отрицательным весом.\n",
    "        # Вышеупомянутый шаг гарантирует кратчайшие расстояния, если график не содержит цикла отрицательного веса.\n",
    "        #  Если мы получим более короткий путь, значит, есть цикл.\n",
    " \n",
    "        for u, v, w in self.graph:\n",
    "            if dist[u] != float(\"Inf\") and dist[u] + w < dist[v]:\n",
    "                print(\"Graph contains negative weight cycle\")\n",
    "                return\n",
    " \n",
    "        # Вывести все расстояние\n",
    "        self.printArr(dist)\n",
    " \n",
    "g = Graph(5)\n",
    "g.addEdge(0, 1, -1)\n",
    "g.addEdge(0, 2, 4)\n",
    "g.addEdge(1, 2, 3)\n",
    "g.addEdge(1, 3, 2)\n",
    "g.addEdge(1, 4, 2)\n",
    "g.addEdge(3, 2, 5)\n",
    "g.addEdge(3, 1, 1)\n",
    "g.addEdge(4, 3, -3)\n",
    " \n",
    "# Вывести решение\n",
    "g.BellmanFord(0)\n",
    "\n"
   ]
  },
  {
   "cell_type": "code",
   "execution_count": null,
   "id": "98c7758f-2320-402d-b4ac-2ff03a2dbc4e",
   "metadata": {},
   "outputs": [],
   "source": []
  },
  {
   "cell_type": "code",
   "execution_count": null,
   "id": "dd31cecc-f8cf-4c42-935e-c530fa2ea607",
   "metadata": {},
   "outputs": [],
   "source": []
  }
 ],
 "metadata": {
  "kernelspec": {
   "display_name": "Python 3 (ipykernel)",
   "language": "python",
   "name": "python3"
  },
  "language_info": {
   "codemirror_mode": {
    "name": "ipython",
    "version": 3
   },
   "file_extension": ".py",
   "mimetype": "text/x-python",
   "name": "python",
   "nbconvert_exporter": "python",
   "pygments_lexer": "ipython3",
   "version": "3.8.10"
  }
 },
 "nbformat": 4,
 "nbformat_minor": 5
}
