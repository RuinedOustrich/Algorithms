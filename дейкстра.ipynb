{
 "cells": [
  {
   "cell_type": "code",
   "execution_count": null,
   "id": "8f8c6aa9-6685-4426-82e8-126eea54e56b",
   "metadata": {},
   "outputs": [],
   "source": [
    "graph = {0: {1: 2, 8: 15},\n",
    "         1: {0: 2, 2: 1, 5: 5},\n",
    "         8: {0: 15, 7: 3, 9: 12},\n",
    "         2: {1: 1, 5: 3, 4: 2, 3: 1},\n",
    "         5: {1: 5, 2: 3, 4: 4, 6: 6},\n",
    "         4: {2: 2, 5: 4},\n",
    "         3: {2: 1, 7: 1},\n",
    "         7: {3: 1, 6: 7, 8: 3},\n",
    "         6: {5: 6, 7: 7, 9: 2},\n",
    "         9: {8: 12, 6: 2}}"
   ]
  },
  {
   "cell_type": "code",
   "execution_count": null,
   "id": "3612588a-39ea-4ca6-b556-aa40a0a26da2",
   "metadata": {},
   "outputs": [],
   "source": [
    "from collections import deque\n",
    "graph1 = {0: {7: 1, 1: 1, 6: 5},\n",
    "         1: {0: 2, 2: 1, 3: 2},\n",
    "         2: {1: 1, 4: 3, 3: 2},\n",
    "         3: {2: 2, 1: 2, 4: 3, 5:1},\n",
    "         4: {7:1, 2: 3, 3: 3},\n",
    "         5: {3: 1, 6: 2},\n",
    "         6: {0: 5, 5: 2, 4: 4},\n",
    "         7: {0: 1, 4: 1}}\n",
    "graph = {0: {1: 2, 8: 15},\n",
    "         1: {0: 2, 2: 1, 5: 5},\n",
    "         8: {0: 15, 7: 3, 9: 12},\n",
    "         2: {1: 1, 5: 3, 4: 2, 3: 1},\n",
    "         5: {1: 5, 2: 3, 4: 4, 6: 6},\n",
    "         4: {2: 2, 5: 4},\n",
    "         3: {2: 1, 7: 1},\n",
    "         7: {3: 1, 6: 7, 8: 3},\n",
    "         6: {5: 6, 7: 7, 9: 2},\n",
    "         9: {8: 12, 6: 2}}\n",
    "\n",
    "\n",
    "n = 10\n",
    "start = 0\n",
    "\n",
    "INF = 10 ** 10\n",
    "dist = [INF] * n\n",
    "dist[start] = 0\n",
    "min_dist = 0\n",
    "parents = {v: None for v in graph}\n",
    "min_vertex = start\n",
    "\n",
    "queue = deque([start])\n",
    "\n",
    "while queue:\n",
    "    cur_v = queue.popleft()\n",
    "    for neigh in graph[cur_v]:\n",
    "        if dist[cur_v] + graph[cur_v][neigh] < dist[neigh]:\n",
    "            dist[neigh] = dist[cur_v] + graph[cur_v][neigh]\n",
    "            #min_dist = INF\n",
    "            queue.append(neigh)\n",
    "            parents[neigh] = cur_v\n",
    "    #for neigh in graph:\n",
    "        #if neigh not in queue and dist[neigh] < min_dist:\n",
    "          #  min_dist = dist[neigh]\n",
    "           # min_vertex = neigh\n"
   ]
  },
  {
   "cell_type": "code",
   "execution_count": null,
   "id": "678950ef-9f65-4b58-924f-12a829a47832",
   "metadata": {},
   "outputs": [],
   "source": [
    "end = 6\n",
    "path = [end]\n",
    "parent = parents[end]\n",
    "while not parent is None:\n",
    "    path.append(parent)\n",
    "    parent = parents[parent]"
   ]
  },
  {
   "cell_type": "code",
   "execution_count": null,
   "id": "c3074db5-3bba-441f-91ca-b9cafc062434",
   "metadata": {},
   "outputs": [],
   "source": [
    "path[::-1]"
   ]
  },
  {
   "cell_type": "code",
   "execution_count": null,
   "id": "ee994ceb-ff16-49e5-a59d-75ddf79eb5e9",
   "metadata": {},
   "outputs": [],
   "source": [
    "parents"
   ]
  },
  {
   "cell_type": "code",
   "execution_count": null,
   "id": "a4c656ff-508e-4bfb-aafe-ac3e6dd6382b",
   "metadata": {},
   "outputs": [],
   "source": [
    "dist"
   ]
  },
  {
   "cell_type": "code",
   "execution_count": null,
   "id": "89e86d0b-9223-4d5c-b2b0-73a3e8dbcadf",
   "metadata": {},
   "outputs": [],
   "source": [
    "while queue:\n",
    "    for neigh in graph[cur_v]:\n",
    "        print(graph["
   ]
  }
 ],
 "metadata": {
  "kernelspec": {
   "display_name": "Python 3 (ipykernel)",
   "language": "python",
   "name": "python3"
  },
  "language_info": {
   "codemirror_mode": {
    "name": "ipython",
    "version": 3
   },
   "file_extension": ".py",
   "mimetype": "text/x-python",
   "name": "python",
   "nbconvert_exporter": "python",
   "pygments_lexer": "ipython3",
   "version": "3.8.10"
  }
 },
 "nbformat": 4,
 "nbformat_minor": 5
}
