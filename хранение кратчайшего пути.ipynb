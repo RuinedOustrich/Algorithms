{
 "cells": [
  {
   "cell_type": "code",
   "execution_count": 2,
   "id": "acf3ae32-66de-4b3e-838c-5f64420830de",
   "metadata": {},
   "outputs": [
    {
     "name": "stdin",
     "output_type": "stream",
     "text": [
      " 15 16\n"
     ]
    }
   ],
   "source": [
    "N,M = map(int, input().split()) "
   ]
  },
  {
   "cell_type": "code",
   "execution_count": 3,
   "id": "9a1f02ee-bc51-4e3c-89e0-9d27cb1249da",
   "metadata": {},
   "outputs": [],
   "source": [
    "graph = {i: set() for i in range(N)}\n",
    "vertex = [i for i in graph]"
   ]
  },
  {
   "cell_type": "code",
   "execution_count": 4,
   "id": "63ece14d-afb4-41a5-9e71-5dc454d7609a",
   "metadata": {},
   "outputs": [
    {
     "name": "stdin",
     "output_type": "stream",
     "text": [
      " 0 1\n",
      " 0 10\n",
      " 0 11 \n",
      " 0 12\n",
      " 10 4\n",
      " 10 6\n",
      " 6 2\n",
      " 1 7\n",
      " 7 13\n",
      " 13 5\n",
      " 5 8\n",
      " 8 12\n",
      " 12 11\n",
      " 11 9\n",
      " 11 3\n",
      " 14 11\n"
     ]
    }
   ],
   "source": [
    "for i in range(M):\n",
    "    v1,v2 = map(int, input().split())\n",
    "    graph[v1].add(v2)\n",
    "    graph[v2].add(v1)"
   ]
  },
  {
   "cell_type": "code",
   "execution_count": 1,
   "id": "96d50a2a-91e7-47da-9b68-ba4c292220bd",
   "metadata": {},
   "outputs": [
    {
     "ename": "NameError",
     "evalue": "name 'N' is not defined",
     "output_type": "error",
     "traceback": [
      "\u001b[0;31m---------------------------------------------------------------------------\u001b[0m",
      "\u001b[0;31mNameError\u001b[0m                                 Traceback (most recent call last)",
      "Input \u001b[0;32mIn [1]\u001b[0m, in \u001b[0;36m<cell line: 2>\u001b[0;34m()\u001b[0m\n\u001b[1;32m      1\u001b[0m \u001b[38;5;28;01mfrom\u001b[39;00m \u001b[38;5;21;01mcollections\u001b[39;00m \u001b[38;5;28;01mimport\u001b[39;00m deque\n\u001b[0;32m----> 2\u001b[0m distances \u001b[38;5;241m=\u001b[39m [\u001b[38;5;28;01mNone\u001b[39;00m] \u001b[38;5;241m*\u001b[39m \u001b[43mN\u001b[49m\n\u001b[1;32m      3\u001b[0m start \u001b[38;5;241m=\u001b[39m \u001b[38;5;241m2\u001b[39m\n\u001b[1;32m      4\u001b[0m distances[start] \u001b[38;5;241m=\u001b[39m \u001b[38;5;241m0\u001b[39m\n",
      "\u001b[0;31mNameError\u001b[0m: name 'N' is not defined"
     ]
    }
   ],
   "source": [
    "from collections import deque\n",
    "distances = [None] * N\n",
    "start = 2\n",
    "distances[start] = 0\n",
    "queue = deque([start])\n",
    "\n",
    "parents = [None] * N\n",
    "\n",
    "while queue:\n",
    "    cur_v = queue.popleft()\n",
    "    for neighbour in graph[cur_v]:\n",
    "        if distances[neighbour] is None:\n",
    "           distances[neighbour] = distances[cur_v]+1\n",
    "           parents[neighbour] = cur_v\n",
    "           queue.append(neighbour)"
   ]
  },
  {
   "cell_type": "code",
   "execution_count": null,
   "id": "eb5a683c-3d15-434d-bdf0-bd4ac08c163a",
   "metadata": {},
   "outputs": [],
   "source": [
    "end = 9\n",
    "path = [end]\n",
    "parent = parents[end]\n",
    "while not parent is None:\n",
    "    path.append(parent)\n",
    "    parent = parents[parent]"
   ]
  },
  {
   "cell_type": "code",
   "execution_count": 16,
   "id": "a7b7fd04-9f90-438a-b275-88b43447a7b9",
   "metadata": {},
   "outputs": [
    {
     "data": {
      "text/plain": [
       "[2, 6, 10, 0, 11, 9]"
      ]
     },
     "execution_count": 16,
     "metadata": {},
     "output_type": "execute_result"
    }
   ],
   "source": [
    "path[::-1]"
   ]
  },
  {
   "cell_type": "code",
   "execution_count": 2,
   "id": "ce46bc5e-6043-48e7-b9b5-bc731d8f0e73",
   "metadata": {},
   "outputs": [
    {
     "ename": "NameError",
     "evalue": "name 'distances' is not defined",
     "output_type": "error",
     "traceback": [
      "\u001b[0;31m---------------------------------------------------------------------------\u001b[0m",
      "\u001b[0;31mNameError\u001b[0m                                 Traceback (most recent call last)",
      "Input \u001b[0;32mIn [2]\u001b[0m, in \u001b[0;36m<cell line: 1>\u001b[0;34m()\u001b[0m\n\u001b[0;32m----> 1\u001b[0m \u001b[43mdistances\u001b[49m\n",
      "\u001b[0;31mNameError\u001b[0m: name 'distances' is not defined"
     ]
    }
   ],
   "source": [
    "distances"
   ]
  },
  {
   "cell_type": "code",
   "execution_count": null,
   "id": "d9eb4ec5-b94f-423b-b0ee-4aecbeff929a",
   "metadata": {},
   "outputs": [],
   "source": []
  }
 ],
 "metadata": {
  "kernelspec": {
   "display_name": "Python 3 (ipykernel)",
   "language": "python",
   "name": "python3"
  },
  "language_info": {
   "codemirror_mode": {
    "name": "ipython",
    "version": 3
   },
   "file_extension": ".py",
   "mimetype": "text/x-python",
   "name": "python",
   "nbconvert_exporter": "python",
   "pygments_lexer": "ipython3",
   "version": "3.8.10"
  }
 },
 "nbformat": 4,
 "nbformat_minor": 5
}
