{
 "cells": [
  {
   "cell_type": "code",
   "execution_count": 2,
   "id": "9ac1e7f6-a1fc-4b07-bb35-b1f2d64561c5",
   "metadata": {},
   "outputs": [
    {
     "data": {
      "text/plain": [
       "-1"
      ]
     },
     "execution_count": 2,
     "metadata": {},
     "output_type": "execute_result"
    }
   ],
   "source": [
    "def RabinKarp(string, pattern):\n",
    "    n, m = len(string), len(pattern)\n",
    "    hpattern = hash(pattern);\n",
    "    for i in range(n-m+1):\n",
    "        hs = hash(string[i:i+m])\n",
    "        if hs == hpattern:\n",
    "            if string[i:i+m] == pattern:\n",
    "                return i\n",
    "    return -1\n",
    "\n",
    "RabinKarp(\"qwertyuiop\", \"iobob\")"
   ]
  },
  {
   "cell_type": "code",
   "execution_count": null,
   "id": "a2bffa30-0725-4a73-b092-04f086e76d24",
   "metadata": {},
   "outputs": [],
   "source": []
  }
 ],
 "metadata": {
  "kernelspec": {
   "display_name": "Python 3 (ipykernel)",
   "language": "python",
   "name": "python3"
  },
  "language_info": {
   "codemirror_mode": {
    "name": "ipython",
    "version": 3
   },
   "file_extension": ".py",
   "mimetype": "text/x-python",
   "name": "python",
   "nbconvert_exporter": "python",
   "pygments_lexer": "ipython3",
   "version": "3.8.10"
  }
 },
 "nbformat": 4,
 "nbformat_minor": 5
}
