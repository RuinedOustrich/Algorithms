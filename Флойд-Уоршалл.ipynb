{
 "cells": [
  {
   "cell_type": "code",
   "execution_count": 15,
   "id": "ec69e939-12cf-43ab-8cc4-97bcb316358c",
   "metadata": {},
   "outputs": [
    {
     "ename": "IndexError",
     "evalue": "list index out of range",
     "output_type": "error",
     "traceback": [
      "\u001b[0;31m---------------------------------------------------------------------------\u001b[0m",
      "\u001b[0;31mIndexError\u001b[0m                                Traceback (most recent call last)",
      "Input \u001b[0;32mIn [15]\u001b[0m, in \u001b[0;36m<cell line: 37>\u001b[0;34m()\u001b[0m\n\u001b[1;32m     35\u001b[0m start \u001b[38;5;241m=\u001b[39m \u001b[38;5;241m1\u001b[39m\n\u001b[1;32m     36\u001b[0m end \u001b[38;5;241m=\u001b[39m \u001b[38;5;241m8\u001b[39m\n\u001b[0;32m---> 37\u001b[0m \u001b[38;5;28mprint\u001b[39m(\u001b[43mget_path\u001b[49m\u001b[43m(\u001b[49m\u001b[43mP\u001b[49m\u001b[43m,\u001b[49m\u001b[43m \u001b[49m\u001b[43mend\u001b[49m\u001b[43m,\u001b[49m\u001b[43m \u001b[49m\u001b[43mstart\u001b[49m\u001b[43m)\u001b[49m)\n\u001b[1;32m     38\u001b[0m \u001b[38;5;28;01mdef\u001b[39;00m \u001b[38;5;21min_order_print\u001b[39m(root):\n\u001b[1;32m     39\u001b[0m     \u001b[38;5;28;01mif\u001b[39;00m \u001b[38;5;129;01mnot\u001b[39;00m root:\n",
      "Input \u001b[0;32mIn [15]\u001b[0m, in \u001b[0;36mget_path\u001b[0;34m(P, u, v)\u001b[0m\n\u001b[1;32m      5\u001b[0m path \u001b[38;5;241m=\u001b[39m [u]\n\u001b[1;32m      6\u001b[0m \u001b[38;5;28;01mwhile\u001b[39;00m u \u001b[38;5;241m!=\u001b[39m v:\n\u001b[0;32m----> 7\u001b[0m     u \u001b[38;5;241m=\u001b[39m \u001b[43mP\u001b[49m\u001b[43m[\u001b[49m\u001b[43mu\u001b[49m\u001b[43m]\u001b[49m[v]\n\u001b[1;32m      8\u001b[0m     path\u001b[38;5;241m.\u001b[39mappend(u)\n\u001b[1;32m     10\u001b[0m \u001b[38;5;28;01mreturn\u001b[39;00m path\n",
      "\u001b[0;31mIndexError\u001b[0m: list index out of range"
     ]
    }
   ],
   "source": [
    "import math\n",
    "\n",
    "\n",
    "def get_path(P, u, v):\n",
    "    path = [u]\n",
    "    while u != v:\n",
    "        u = P[u][v]\n",
    "        path.append(u)\n",
    "\n",
    "    return path\n",
    "\n",
    "\n",
    "V = [[0, 2, math.inf, 3, 1, math.inf, math.inf, 10],\n",
    "     [2, 0, 4, math.inf, math.inf, math.inf, math.inf, math.inf],\n",
    "     [math.inf, 4, 0, math.inf, math.inf, math.inf, math.inf, 3],\n",
    "     [3, math.inf, math.inf, 0, math.inf, math.inf, math.inf, 8],\n",
    "     [1, math.inf, math.inf, math.inf, 0, 2, math.inf, math.inf],\n",
    "     [math.inf, math.inf, math.inf, math.inf, 2, 0, 3, math.inf],\n",
    "     [math.inf, math.inf, math.inf, math.inf, math.inf, 3, 0, 1],\n",
    "     [10, math.inf, 3, 8, math.inf, math.inf, 1, 0],\n",
    "]\n",
    "\n",
    "N = len(V)                       # число вершин в графе\n",
    "P = [[v for v in range(N)] for u in range(N)]       # начальный список предыдущих вершин для поиска кратчайших маршрутов\n",
    "\n",
    "for k in range(N):\n",
    "    for i in range(N):\n",
    "        for j in range(N):\n",
    "            d = V[i][k] + V[k][j]\n",
    "            if V[i][j] > d:\n",
    "                V[i][j] = d\n",
    "                P[i][j] = k     # номер промежуточной вершины при движении от i к j\n",
    "\n",
    "# нумерацця вершин начинается с нуля\n",
    "start = 1\n",
    "end = 8\n",
    "print(get_path(P, end, start))\n",
    "\n"
   ]
  },
  {
   "cell_type": "code",
   "execution_count": null,
   "id": "07786ef6-1edd-4a4d-ba1c-4b53e781d9c1",
   "metadata": {},
   "outputs": [
    {
     "data": {
      "text/plain": [
       "[[0, 1, 1, 3, 4, 4, 5, 6],\n",
       " [0, 1, 2, 0, 0, 4, 5, 2],\n",
       " [1, 1, 2, 1, 1, 7, 7, 7],\n",
       " [0, 0, 1, 3, 0, 4, 5, 7],\n",
       " [0, 0, 1, 0, 4, 5, 5, 6],\n",
       " [4, 4, 7, 4, 4, 5, 6, 6],\n",
       " [5, 5, 7, 5, 5, 5, 6, 7],\n",
       " [6, 2, 2, 3, 6, 6, 6, 7]]"
      ]
     },
     "execution_count": 13,
     "metadata": {},
     "output_type": "execute_result"
    }
   ],
   "source": [
    "P"
   ]
  },
  {
   "cell_type": "code",
   "execution_count": null,
   "id": "ce68d88d-1f3e-40d4-ab8a-31a8bb36c2e8",
   "metadata": {},
   "outputs": [],
   "source": []
  }
 ],
 "metadata": {
  "kernelspec": {
   "display_name": "Python 3 (ipykernel)",
   "language": "python",
   "name": "python3"
  },
  "language_info": {
   "codemirror_mode": {
    "name": "ipython",
    "version": 3
   },
   "file_extension": ".py",
   "mimetype": "text/x-python",
   "name": "python",
   "nbconvert_exporter": "python",
   "pygments_lexer": "ipython3",
   "version": "3.8.10"
  }
 },
 "nbformat": 4,
 "nbformat_minor": 5
}
